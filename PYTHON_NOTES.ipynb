{
  "nbformat": 4,
  "nbformat_minor": 0,
  "metadata": {
    "colab": {
      "provenance": []
    },
    "kernelspec": {
      "name": "python3",
      "display_name": "Python 3"
    },
    "language_info": {
      "name": "python"
    }
  },
  "cells": [
    {
      "cell_type": "code",
      "execution_count": null,
      "metadata": {
        "id": "tlqGFRlTWGLf"
      },
      "outputs": [],
      "source": []
    },
    {
      "cell_type": "markdown",
      "source": [
        "\n",
        "\n",
        "## 🐍 **History of Python Programming Language**\n",
        "\n",
        "### 📅 **1. Origin**\n",
        "\n",
        "* **Created by:** Guido van Rossum\n",
        "* **Year:** Late **1980s** (started in **1989**), officially released in **1991**\n",
        "* **Country:** Netherlands 🇳🇱\n",
        "* **Goal:** To create a language that was easy to read and learn, while being powerful enough for professionals.\n",
        "\n",
        "### 📜 **2. Why the name *Python*?**\n",
        "\n",
        "* Named after **\"Monty Python's Flying Circus\"**, a British comedy show.\n",
        "* Guido was a fan — the name is meant to be **fun and unique**, not about the snake 🐍!\n",
        "\n",
        "### 🧰 **3. First Version**\n",
        "\n",
        "* **Python 1.0** released in **1991**\n",
        "* Included basic features like:\n",
        "  ➤ Functions\n",
        "  ➤ Exceptions\n",
        "  ➤ Core data types (int, float, list, etc.)\n",
        "  ➤ Modules\n",
        "\n",
        "### 🚀 **4. Major Releases**\n",
        "\n",
        "| Version         | Year      | Highlights                                                         |\n",
        "| --------------- | --------- | ------------------------------------------------------------------ |\n",
        "| Python 2.0      | 2000      | List comprehensions, garbage collection                            |\n",
        "| Python 3.0      | 2008      | **Not backward-compatible**, improved Unicode, print() as function |\n",
        "| Python 3.6–3.11 | 2016–2023 | f-strings, async support, performance boosts                       |\n",
        "| Python 3.12+    | 2023+     | Even faster, cleaner syntax, improved typing                       |\n",
        "\n",
        "### 🌍 **5. Popularity & Use**\n",
        "\n",
        "* Widely used in:\n",
        "\n",
        "  * **Data Science**\n",
        "  * **Web Development**\n",
        "  * **Machine Learning**\n",
        "  * **Automation & Scripting**\n",
        "  * **Cybersecurity**, etc.\n",
        "\n",
        "* Known for:\n",
        "\n",
        "  * Simple syntax\n",
        "  * Huge community\n",
        "  * Tons of libraries (like NumPy, Pandas, TensorFlow, Django)\n",
        "\n",
        "---\n",
        "\n",
        "## 🔥 Fun Fact:\n",
        "\n",
        "Python is often the **first language** people learn today because it's as close to English as programming gets!\n",
        "\n"
      ],
      "metadata": {
        "id": "oHU-ojGj0V_s"
      }
    },
    {
      "cell_type": "markdown",
      "source": [
        "DAY 1\n"
      ],
      "metadata": {
        "id": "KYi_PQ0G0aco"
      }
    },
    {
      "cell_type": "markdown",
      "source": [
        "Topics\n",
        "\n",
        "o Variables, Numbers, Strings\n",
        "\n",
        "o Lists, Dictionaries, Sets, Tuples\n",
        "\n",
        "o If condition, for loop\n",
        "\n",
        "o Functions, Lambda Functions\n",
        "\n",
        "o Modules (pip install) ,List comphrension\n",
        "\n",
        "\n",
        "o Classes, Objects"
      ],
      "metadata": {
        "id": "baDyVvkHzys2"
      }
    },
    {
      "cell_type": "markdown",
      "source": [
        "📘 1. Variables and Data Types\n",
        "Variables store data. Python is dynamically typed (no need to declare types)."
      ],
      "metadata": {
        "id": "TPlgp6HR0tCU"
      }
    },
    {
      "cell_type": "markdown",
      "source": [
        "🔢 Common Data Types:"
      ],
      "metadata": {
        "id": "iID-i4Pa0wg9"
      }
    },
    {
      "cell_type": "code",
      "source": [
        "x = 10         # int\n",
        "y = 3.14       # float\n",
        "name = \"John\"  # str\n",
        "is_valid = True # bool\n"
      ],
      "metadata": {
        "id": "rUgBlcAjz0UC"
      },
      "execution_count": null,
      "outputs": []
    },
    {
      "cell_type": "markdown",
      "source": [
        "➕ 2. Operators\n",
        "\n",
        "a) Arithmetic Operators\n",
        "Used for mathematical operations.\n",
        "\n"
      ],
      "metadata": {
        "id": "ULI0UV3g1jHF"
      }
    },
    {
      "cell_type": "markdown",
      "source": [
        "+  # Addition\n",
        "-  # Subtraction\n",
        "*  # Multiplication\n",
        "/  # Division\n",
        "%  # Modulus (remainder)\n",
        "** # Exponentiation\n",
        "// # Floor division\n"
      ],
      "metadata": {
        "id": "ohCbgr4j1n65"
      }
    },
    {
      "cell_type": "markdown",
      "source": [
        "b) Comparison Operators\n",
        "Used to compare values (result is always True or False)."
      ],
      "metadata": {
        "id": "QF_s1zW11tJ9"
      }
    },
    {
      "cell_type": "markdown",
      "source": [
        "==  # Equal to\n",
        "\n",
        "!=  # Not equal to\n",
        "\n",
        ">   # Greater than\n",
        "\n",
        "<   # Less than\n",
        "\n",
        ">=  # Greater than or equal to\n",
        "\n",
        "<=  # Less than or equal to\n"
      ],
      "metadata": {
        "id": "k68YyQiV1yr_"
      }
    },
    {
      "cell_type": "markdown",
      "source": [
        "c) Logical Operators\n",
        "Used to combine conditions.\n",
        "\n",
        "\n",
        "and  # True if both conditions are true\n",
        "\n",
        "or   # True if at least one condition is true\n",
        "\n",
        "not  # Reverses the result\n"
      ],
      "metadata": {
        "id": "iLPbzL0r2ED7"
      }
    },
    {
      "cell_type": "markdown",
      "source": [
        "🔁 3. Control Flow: if, elif, else\n",
        "\n",
        "Control the flow of your program using conditions.\n",
        "\n",
        "\n",
        "\n"
      ],
      "metadata": {
        "id": "k1ZYtWDK2UAy"
      }
    },
    {
      "cell_type": "code",
      "source": [
        "\n",
        "age = 20\n",
        "\n",
        "if age >= 18:\n",
        "\n",
        "    print(\"Adult\")\n",
        "\n",
        "\n",
        "elif age >= 13:\n",
        "\n",
        "    print(\"Teenager\")\n",
        "\n",
        "else:\n",
        "    print(\"Child\")\n"
      ],
      "metadata": {
        "colab": {
          "base_uri": "https://localhost:8080/"
        },
        "id": "weE8Vu5y1muC",
        "outputId": "522b7493-da5d-440d-e036-37a11dc7d293"
      },
      "execution_count": 2,
      "outputs": [
        {
          "output_type": "stream",
          "name": "stdout",
          "text": [
            "Adult\n"
          ]
        }
      ]
    },
    {
      "cell_type": "markdown",
      "source": [
        "🔂 4. Loops\n",
        "a) for loop\n",
        "\n",
        "Used to iterate over a sequence (list, string, range, etc.)\n"
      ],
      "metadata": {
        "id": "5OyfN9KP2jvA"
      }
    },
    {
      "cell_type": "code",
      "source": [
        "for i in range(5):\n",
        "    print(i)  # prints 0 to 4\n"
      ],
      "metadata": {
        "colab": {
          "base_uri": "https://localhost:8080/"
        },
        "id": "f8Syvnec2gD0",
        "outputId": "60b6f22d-ebf8-46f8-a400-444eb4238996"
      },
      "execution_count": 3,
      "outputs": [
        {
          "output_type": "stream",
          "name": "stdout",
          "text": [
            "0\n",
            "1\n",
            "2\n",
            "3\n",
            "4\n"
          ]
        }
      ]
    },
    {
      "cell_type": "markdown",
      "source": [
        "b) while loop\n",
        "\n",
        "Repeats a block of code as long as the condition is True."
      ],
      "metadata": {
        "id": "B6kJYZ-92r77"
      }
    },
    {
      "cell_type": "code",
      "source": [
        "count = 0\n",
        "while count < 5:\n",
        "    print(count)\n",
        "    count += 1\n"
      ],
      "metadata": {
        "colab": {
          "base_uri": "https://localhost:8080/"
        },
        "id": "Y8Pn1OGL2oNq",
        "outputId": "61c625a3-26ea-4bea-ff47-6bbc87c4f3e5"
      },
      "execution_count": 4,
      "outputs": [
        {
          "output_type": "stream",
          "name": "stdout",
          "text": [
            "0\n",
            "1\n",
            "2\n",
            "3\n",
            "4\n"
          ]
        }
      ]
    },
    {
      "cell_type": "markdown",
      "source": [
        "🧩 5. Functions\n",
        "\n",
        "Define reusable blocks of code with def."
      ],
      "metadata": {
        "id": "pcgzH15t2y4Y"
      }
    },
    {
      "cell_type": "code",
      "source": [
        "def greet(name):\n",
        "    return \"Hello, \" + name\n",
        "\n",
        "print(greet(\"Alice\"))  # Output: Hello, Alice\n"
      ],
      "metadata": {
        "colab": {
          "base_uri": "https://localhost:8080/"
        },
        "id": "BkhL9plv2vbX",
        "outputId": "fe447064-d4a3-4065-c769-b591e59599d1"
      },
      "execution_count": 5,
      "outputs": [
        {
          "output_type": "stream",
          "name": "stdout",
          "text": [
            "Hello, Alice\n"
          ]
        }
      ]
    },
    {
      "cell_type": "markdown",
      "source": [
        "📥📤 6. Input and Output\n",
        "\n",
        "a) Input\n",
        "\n",
        "Takes user input (always as a string)."
      ],
      "metadata": {
        "id": "TmUJfrXA25WK"
      }
    },
    {
      "cell_type": "code",
      "source": [
        "name = input(\"Enter your name: \")\n"
      ],
      "metadata": {
        "colab": {
          "base_uri": "https://localhost:8080/"
        },
        "id": "Uu9QxomP22f5",
        "outputId": "bf5de9b7-43cd-4363-f41c-6afe1b3acf2a"
      },
      "execution_count": 6,
      "outputs": [
        {
          "name": "stdout",
          "output_type": "stream",
          "text": [
            "Enter your name: JANVI\n"
          ]
        }
      ]
    },
    {
      "cell_type": "markdown",
      "source": [
        "b) Output"
      ],
      "metadata": {
        "id": "l0VTPrM73CGu"
      }
    },
    {
      "cell_type": "code",
      "source": [
        "print(\"hello\",name)"
      ],
      "metadata": {
        "colab": {
          "base_uri": "https://localhost:8080/"
        },
        "id": "MGiwnxfT29ut",
        "outputId": "15d7827d-2e84-4a13-bbaa-329b66ff9681"
      },
      "execution_count": 7,
      "outputs": [
        {
          "output_type": "stream",
          "name": "stdout",
          "text": [
            "hello JANVI\n"
          ]
        }
      ]
    },
    {
      "cell_type": "markdown",
      "source": [
        "📝 Mini Project: Simple Quiz Game\n",
        "🎯 Objective:\n",
        "Create a quiz game that asks the user 3 questions. It will:\n",
        "\n",
        "Take user input\n",
        "\n",
        "Evaluate answers using conditionals and operators\n",
        "\n",
        "Use functions to structure code\n",
        "\n",
        "Use loops to ask multiple questions\n",
        "\n",
        "Print the final score at the end\n",
        "\n"
      ],
      "metadata": {
        "id": "Dy4l-YC63ngN"
      }
    },
    {
      "cell_type": "code",
      "source": [
        "def ask_question(question, correct_answer):\n",
        "    user_answer = input(question + \" \")\n",
        "    if user_answer.lower() == correct_answer.lower():\n",
        "        print(\"Correct ✅\")\n",
        "        return 1\n",
        "    else:\n",
        "        print(\"Wrong ❌\")\n",
        "        return 0\n",
        "\n",
        "def quiz_game():\n",
        "    print(\"🎉 Welcome to the Python Quiz Game!\")\n",
        "    print(\"Answer the following questions:\\n\")\n",
        "\n",
        "    score = 0\n",
        "    total_questions = 3\n",
        "\n",
        "    score += ask_question(\"1. What is the capital of India?\", \"New Delhi\")\n",
        "    score += ask_question(\"2. What is 5 + 7?\", \"12\")\n",
        "    score += ask_question(\"3. Is Python a compiled language? (yes/no)\", \"no\")\n",
        "\n",
        "    print(\"\\n🧾 Quiz Completed!\")\n",
        "    print(\"Your Score:\", score, \"/\", total_questions)\n",
        "\n",
        "    percentage = (score / total_questions) * 100\n",
        "    print(\"Your Percentage:\", percentage, \"%\")\n",
        "\n",
        "    if percentage == 100:\n",
        "        print(\"Excellent! 🏆\")\n",
        "    elif percentage >= 50:\n",
        "        print(\"Good Job! 👍\")\n",
        "    else:\n",
        "        print(\"Better luck next time! 🔁\")\n",
        "\n",
        "# Run the game\n",
        "quiz_game()\n"
      ],
      "metadata": {
        "colab": {
          "base_uri": "https://localhost:8080/"
        },
        "id": "oa8F91QP3KnS",
        "outputId": "36840793-13f5-4eec-caa0-7765461eccd0"
      },
      "execution_count": 9,
      "outputs": [
        {
          "output_type": "stream",
          "name": "stdout",
          "text": [
            "🎉 Welcome to the Python Quiz Game!\n",
            "Answer the following questions:\n",
            "\n",
            "1. What is the capital of India? new delhi\n",
            "Correct ✅\n",
            "2. What is 5 + 7? 12\n",
            "Correct ✅\n",
            "3. Is Python a compiled language? (yes/no) Yes\n",
            "Wrong ❌\n",
            "\n",
            "🧾 Quiz Completed!\n",
            "Your Score: 2 / 3\n",
            "Your Percentage: 66.66666666666666 %\n",
            "Good Job! 👍\n"
          ]
        }
      ]
    },
    {
      "cell_type": "markdown",
      "source": [
        "🧱 Python Core Data Structures Summary\n",
        "\n",
        "🔹 1. List\n",
        "\n",
        "Ordered, mutable, allows duplicates\n",
        "\n",
        "Best for collections where you may add, remove, or sort elements"
      ],
      "metadata": {
        "id": "PKtT3wdH46Yu"
      }
    },
    {
      "cell_type": "code",
      "source": [
        "fruits = [\"apple\", \"banana\", \"mango\"]\n",
        "fruits.append(\"orange\")       # Add item\n",
        "fruits.remove(\"banana\")       # Remove item\n",
        "print(fruits[0])              # Access item\n",
        "print(fruits[-1])             # Last item\n"
      ],
      "metadata": {
        "colab": {
          "base_uri": "https://localhost:8080/"
        },
        "id": "fqcn0FhU3uKc",
        "outputId": "baf8a22c-26cb-4de6-eee0-572a9b916cf9"
      },
      "execution_count": 10,
      "outputs": [
        {
          "output_type": "stream",
          "name": "stdout",
          "text": [
            "apple\n",
            "orange\n"
          ]
        }
      ]
    },
    {
      "cell_type": "markdown",
      "source": [
        "🔧 Common Methods:\n",
        "\n",
        ".append(x)\n",
        "\n",
        ".remove(x)\n",
        "\n",
        ".sort(), .reverse()\n",
        "\n",
        "len(list), list[index]\n",
        "\n"
      ],
      "metadata": {
        "id": "s_oMmXwg5LeA"
      }
    },
    {
      "cell_type": "markdown",
      "source": [
        "🔹 2. Tuple\n",
        "\n",
        "Ordered, immutable, allows duplicates\n",
        "\n",
        "Use when you need a fixed collection"
      ],
      "metadata": {
        "id": "aGQ40-H75OlB"
      }
    },
    {
      "cell_type": "code",
      "source": [
        "coordinates = (10, 20)\n",
        "print(coordinates[0])         # Access by index\n"
      ],
      "metadata": {
        "colab": {
          "base_uri": "https://localhost:8080/"
        },
        "id": "SBY49ZkS5HxV",
        "outputId": "b753a8d3-0684-47e5-acfe-72c2b2d3f812"
      },
      "execution_count": 11,
      "outputs": [
        {
          "output_type": "stream",
          "name": "stdout",
          "text": [
            "10\n"
          ]
        }
      ]
    },
    {
      "cell_type": "markdown",
      "source": [
        "✅ Why Tuples?\n",
        "\n",
        "Faster than lists\n",
        "\n",
        "Safer for read-only data"
      ],
      "metadata": {
        "id": "W-nsj5bw5WD2"
      }
    },
    {
      "cell_type": "markdown",
      "source": [
        "🔹 3. Set\n",
        "\n",
        "Unordered, mutable, unique elements only\n",
        "\n",
        "No duplicates, great for membership tests"
      ],
      "metadata": {
        "id": "Wdp9XaXb5a1S"
      }
    },
    {
      "cell_type": "code",
      "source": [
        "nums = [1, 2, 2, 3]\n",
        "unique = set(nums)\n",
        "print(unique)                 # {1, 2, 3}\n"
      ],
      "metadata": {
        "colab": {
          "base_uri": "https://localhost:8080/"
        },
        "id": "mFhkuYhG5SfY",
        "outputId": "c35b342d-901d-44f2-86c7-687d7721d9b3"
      },
      "execution_count": 12,
      "outputs": [
        {
          "output_type": "stream",
          "name": "stdout",
          "text": [
            "{1, 2, 3}\n"
          ]
        }
      ]
    },
    {
      "cell_type": "markdown",
      "source": [
        "🔧 Common Methods:\n",
        "\n",
        ".add(x), .remove(x)\n",
        "\n",
        "Set operations: .union(), .intersection(), .difference()"
      ],
      "metadata": {
        "id": "UWzCbsc15gTj"
      }
    },
    {
      "cell_type": "markdown",
      "source": [
        "🔹 4. Dictionary\n",
        "\n",
        "Unordered, mutable, stores key-value pairs\n",
        "\n",
        "Used to map one thing to another"
      ],
      "metadata": {
        "id": "9J1-PvKQ5pZK"
      }
    },
    {
      "cell_type": "code",
      "source": [
        "student = {\"name\": \"Asha\", \"age\": 21}\n",
        "student[\"grade\"] = \"A\"        # Add new key\n",
        "print(student[\"name\"])        # Access by key\n"
      ],
      "metadata": {
        "colab": {
          "base_uri": "https://localhost:8080/"
        },
        "id": "3XFOPPUH5fYx",
        "outputId": "34886c63-13d8-49bf-a7c5-d52016372b94"
      },
      "execution_count": 13,
      "outputs": [
        {
          "output_type": "stream",
          "name": "stdout",
          "text": [
            "Asha\n"
          ]
        }
      ]
    },
    {
      "cell_type": "markdown",
      "source": [
        "🧪 Mini Project: 📋 Student Marks Manager\n",
        "🎯 Goal:\n",
        "Build a CLI (Command Line Interface) program where you can:\n",
        "\n",
        "Add student names and their marks\n",
        "\n",
        "View all students\n",
        "\n",
        "Find average marks\n",
        "\n",
        "Remove a student\n",
        "\n",
        "Prevent duplicate entries using sets\n",
        "\n",
        "💡 Concepts Used:\n",
        "Lists (to store student records)\n",
        "\n",
        "Dictionaries (to map student → marks)\n",
        "\n",
        "Sets (to prevent duplicates)\n",
        "\n",
        "Tuples (optional: store records as (name, marks))"
      ],
      "metadata": {
        "id": "4yB_RN4j594O"
      }
    },
    {
      "cell_type": "code",
      "source": [
        "students = {}\n",
        "added_names = set()\n",
        "\n",
        "while True:\n",
        "    print(\"\\n1. Add Student\")\n",
        "    print(\"2. View All\")\n",
        "    print(\"3. Show Average Marks\")\n",
        "    print(\"4. Remove Student\")\n",
        "    print(\"5. Exit\")\n",
        "\n",
        "    choice = input(\"Enter your choice: \")\n",
        "\n",
        "    if choice == \"1\":\n",
        "        name = input(\"Enter student name: \").title()\n",
        "        if name in added_names:\n",
        "            print(\"Student already exists.\")\n",
        "            continue\n",
        "        marks = int(input(\"Enter marks (0–100): \"))\n",
        "        students[name] = marks\n",
        "        added_names.add(name)\n",
        "        print(f\"{name} added.\")\n",
        "\n",
        "    elif choice == \"2\":\n",
        "        print(\"\\nStudent Records:\")\n",
        "        for name, mark in students.items():\n",
        "            print(f\"{name}: {mark} marks\")\n",
        "\n",
        "    elif choice == \"3\":\n",
        "        if students:\n",
        "            avg = sum(students.values()) / len(students)\n",
        "            print(f\"Average Marks: {avg:.2f}\")\n",
        "        else:\n",
        "            print(\"No data available.\")\n",
        "\n",
        "    elif choice == \"4\":\n",
        "        name = input(\"Enter name to remove: \").title()\n",
        "        if name in students:\n",
        "            del students[name]\n",
        "            added_names.remove(name)\n",
        "            print(f\"{name} removed.\")\n",
        "        else:\n",
        "            print(\"Student not found.\")\n",
        "\n",
        "    elif choice == \"5\":\n",
        "        print(\"Goodbye!\")\n",
        "        break\n",
        "\n",
        "    else:\n",
        "        print(\"Invalid choice. Try again.\")\n"
      ],
      "metadata": {
        "colab": {
          "base_uri": "https://localhost:8080/"
        },
        "id": "cXIATbXs5tPa",
        "outputId": "0e87e345-2e18-470e-ae93-5853f804a6b4"
      },
      "execution_count": 14,
      "outputs": [
        {
          "output_type": "stream",
          "name": "stdout",
          "text": [
            "\n",
            "1. Add Student\n",
            "2. View All\n",
            "3. Show Average Marks\n",
            "4. Remove Student\n",
            "5. Exit\n",
            "Enter your choice: 1\n",
            "Enter student name: janvi\n",
            "Enter marks (0–100): 98\n",
            "Janvi added.\n",
            "\n",
            "1. Add Student\n",
            "2. View All\n",
            "3. Show Average Marks\n",
            "4. Remove Student\n",
            "5. Exit\n",
            "Enter your choice: 3\n",
            "Average Marks: 98.00\n",
            "\n",
            "1. Add Student\n",
            "2. View All\n",
            "3. Show Average Marks\n",
            "4. Remove Student\n",
            "5. Exit\n",
            "Enter your choice: 5\n",
            "Goodbye!\n"
          ]
        }
      ]
    },
    {
      "cell_type": "markdown",
      "source": [
        "\n",
        "## ✅ **What is an Anonymous (Lambda) Function in Python?**\n",
        "\n",
        "> A **lambda function** is an **anonymous function** — meaning it has **no name** — and is typically used **once or for short-term purposes**.\n",
        "\n",
        "---\n",
        "\n",
        "### 💡 Why use it?\n",
        "\n",
        "* You don’t want to create a full `def` function.\n",
        "* You need a **quick, temporary function** (often inside another function).\n",
        "\n",
        "---\n",
        "\n"
      ],
      "metadata": {
        "id": "2dJSvF8w6W_k"
      }
    },
    {
      "cell_type": "markdown",
      "source": [],
      "metadata": {
        "id": "75pq-scp61Xw"
      }
    },
    {
      "cell_type": "code",
      "source": [
        "### ✅ Example:\n",
        "\n",
        "print((lambda x: x + 5)(10))  # Output: 15"
      ],
      "metadata": {
        "colab": {
          "base_uri": "https://localhost:8080/"
        },
        "id": "-YXK_Z1N6A8p",
        "outputId": "bc2432b6-a40f-4ca5-a4f9-18755f5fa057"
      },
      "execution_count": 15,
      "outputs": [
        {
          "output_type": "stream",
          "name": "stdout",
          "text": [
            "15\n"
          ]
        }
      ]
    },
    {
      "cell_type": "code",
      "source": [
        "greet = lambda name: f\"Hello, {name}!\"\n",
        "print(greet(\"Janvi\"))\n",
        "print(greet(\"Asha\"))\n"
      ],
      "metadata": {
        "colab": {
          "base_uri": "https://localhost:8080/"
        },
        "id": "qSsA6wgU7CYG",
        "outputId": "5187cc27-22e4-48e8-9e26-8ca6614c5c95"
      },
      "execution_count": 16,
      "outputs": [
        {
          "output_type": "stream",
          "name": "stdout",
          "text": [
            "Hello, Janvi!\n",
            "Hello, Asha!\n"
          ]
        }
      ]
    },
    {
      "cell_type": "code",
      "source": [
        "add = lambda a, b: a + b\n",
        "print(add(3, 5))  # Output: 8\n"
      ],
      "metadata": {
        "colab": {
          "base_uri": "https://localhost:8080/"
        },
        "id": "n--tuF_o7Mmy",
        "outputId": "f6f1079d-7e68-4e68-8b49-28c4f773f520"
      },
      "execution_count": 17,
      "outputs": [
        {
          "output_type": "stream",
          "name": "stdout",
          "text": [
            "8\n"
          ]
        }
      ]
    },
    {
      "cell_type": "markdown",
      "source": [
        "✅ Common Uses of Lambda Functions in Python\n",
        "\n",
        "🔹 1. With map() – Apply a function to every item in a list"
      ],
      "metadata": {
        "id": "tJEL7e-n7fj-"
      }
    },
    {
      "cell_type": "code",
      "source": [
        "nums = [1, 2, 3, 4]\n",
        "squares = list(map(lambda x: x ** 2, nums))\n",
        "print(squares)  # Output: [1, 4, 9, 16]\n"
      ],
      "metadata": {
        "colab": {
          "base_uri": "https://localhost:8080/"
        },
        "id": "U--O60T97O1A",
        "outputId": "40d58a0f-9e80-4559-c9e6-b7b6f1f644f3"
      },
      "execution_count": 18,
      "outputs": [
        {
          "output_type": "stream",
          "name": "stdout",
          "text": [
            "[1, 4, 9, 16]\n"
          ]
        }
      ]
    },
    {
      "cell_type": "markdown",
      "source": [
        "🔹 2. With filter() – Keep only items that match a condition"
      ],
      "metadata": {
        "id": "WQi34o2_7n6B"
      }
    },
    {
      "cell_type": "code",
      "source": [
        "nums = [1, 2, 3, 4, 5]\n",
        "evens = list(filter(lambda x: x % 2 == 0, nums))\n",
        "print(evens)  # Output: [2, 4]\n"
      ],
      "metadata": {
        "colab": {
          "base_uri": "https://localhost:8080/"
        },
        "id": "4l8UAmsv7jLV",
        "outputId": "a8c3d1fc-e5f3-4a2d-df12-573076f1ffe7"
      },
      "execution_count": 19,
      "outputs": [
        {
          "output_type": "stream",
          "name": "stdout",
          "text": [
            "[2, 4]\n"
          ]
        }
      ]
    },
    {
      "cell_type": "markdown",
      "source": [
        "🔹 3. With sorted() – Custom sorting using key\n",
        "\n"
      ],
      "metadata": {
        "id": "XOr0Np3b7wQp"
      }
    },
    {
      "cell_type": "code",
      "source": [
        "names = [\"Janvi\", \"Anu\", \"Ritika\"]\n",
        "sorted_names = sorted(names, key=lambda x: len(x))\n",
        "print(sorted_names)  # Output: ['Anu', 'Janvi', 'Ritika']\n"
      ],
      "metadata": {
        "colab": {
          "base_uri": "https://localhost:8080/"
        },
        "id": "LN2iygoM7uCe",
        "outputId": "08111cf3-c5a9-4e75-fbc2-61c7c0d1b740"
      },
      "execution_count": 20,
      "outputs": [
        {
          "output_type": "stream",
          "name": "stdout",
          "text": [
            "['Anu', 'Janvi', 'Ritika']\n"
          ]
        }
      ]
    },
    {
      "cell_type": "markdown",
      "source": [
        "🔹 4. Inline usage – Quick one-time logic"
      ],
      "metadata": {
        "id": "GuYM06MV78hO"
      }
    },
    {
      "cell_type": "code",
      "source": [
        "print((lambda x, y: x * y)(3, 4))  # Output: 12\n"
      ],
      "metadata": {
        "colab": {
          "base_uri": "https://localhost:8080/"
        },
        "id": "c14jVsQR72Sv",
        "outputId": "734d7a3c-bab4-4c74-ddbc-c1025ecc7839"
      },
      "execution_count": 21,
      "outputs": [
        {
          "output_type": "stream",
          "name": "stdout",
          "text": [
            "12\n"
          ]
        }
      ]
    },
    {
      "cell_type": "markdown",
      "source": [
        "Shallow Copy (Soft Copy) = Copy the container, but share the contents\n",
        "Deep Copy (Hard Copy) = Copy everything completely\n",
        "Example:\n",
        "pythonimport copy\n",
        "\n",
        "# Original list\n",
        "original = [[1, 2], [3, 4]]\n",
        "\n",
        "# Shallow copy - shares the inner lists\n",
        "shallow = copy.copy(original)\n",
        "shallow[0][0] = 999\n",
        "print(original)  # [[999, 2], [3, 4]] - CHANGED!\n",
        "\n",
        "# Deep copy - everything is separate\n",
        "deep = copy.deepcopy(original)\n",
        "deep[0][0] = 555\n",
        "print(original)  # [[999, 2], [3, 4]] - unchanged\n",
        "Think of it like:\n",
        "\n",
        "Shallow copy = Copying a folder but the files inside are still shared\n",
        "Deep copy = Copying a folder AND making new copies of all files inside\n",
        "\n",
        "When to use:\n",
        "\n",
        "Shallow copy: When you want a new list/object but don't mind sharing the contents\n",
        "Deep copy: When you want everything completely separate\n",
        "RetryClaude does not have the ability to run the code it generates yet.Claude can make mistakes. Please double-check responses. Sonnet 4"
      ],
      "metadata": {
        "id": "vtq-f0KS9K_J"
      }
    },
    {
      "cell_type": "markdown",
      "source": [],
      "metadata": {
        "id": "1hKcV9OU9ZoT"
      }
    },
    {
      "cell_type": "markdown",
      "source": [
        "✅ Modules (and pip install)\n",
        "\n",
        "What are Modules?\n",
        "\n",
        "Modules are Python files (.py) that contain functions, classes, or variables which you can reuse in other Python programs.\n",
        "\n",
        "\n",
        "Built-in Modules: Like math, random, datetime.\n",
        "\n",
        "Custom Modules: You can create your own .py files and import them.\n",
        "\n",
        "Importing a Module:"
      ],
      "metadata": {
        "id": "L-PdGWwO91av"
      }
    },
    {
      "cell_type": "code",
      "source": [
        "import math\n",
        "print(math.sqrt(16))  # Output: 4.0\n"
      ],
      "metadata": {
        "colab": {
          "base_uri": "https://localhost:8080/"
        },
        "id": "DmWKxMr_7-qY",
        "outputId": "b87c6f91-8fdf-4141-9281-6c88a39419cc"
      },
      "execution_count": 22,
      "outputs": [
        {
          "output_type": "stream",
          "name": "stdout",
          "text": [
            "4.0\n"
          ]
        }
      ]
    },
    {
      "cell_type": "code",
      "source": [
        "import numpy as np\n",
        "arr = np.array([1, 2, 3])\n"
      ],
      "metadata": {
        "id": "c-2z2jrv98v3"
      },
      "execution_count": 23,
      "outputs": []
    },
    {
      "cell_type": "markdown",
      "source": [
        "✅ List Comprehension\n",
        "\n",
        "What is it?\n",
        "\n",
        "A shorter and cleaner way to create new lists from existing ones.\n",
        "\n",
        "\n",
        "Syntax:\n",
        "\n",
        "[expression for item in iterable if condition]\n"
      ],
      "metadata": {
        "id": "LTI6QHvY-CaS"
      }
    },
    {
      "cell_type": "code",
      "source": [
        "# Basic\n",
        "squares = [x**2 for x in range(5)]  # [0, 1, 4, 9, 16]\n",
        "\n",
        "# With condition\n",
        "evens = [x for x in range(10) if x % 2 == 0]  # [0, 2, 4, 6, 8]\n",
        "print(squares)\n",
        "print(evens)"
      ],
      "metadata": {
        "colab": {
          "base_uri": "https://localhost:8080/"
        },
        "id": "fPZs-Wg29-tt",
        "outputId": "5fb87edb-1f34-444d-a8d3-691ae635e33e"
      },
      "execution_count": 26,
      "outputs": [
        {
          "output_type": "stream",
          "name": "stdout",
          "text": [
            "[0, 1, 4, 9, 16]\n",
            "[0, 2, 4, 6, 8]\n"
          ]
        }
      ]
    },
    {
      "cell_type": "markdown",
      "source": [
        "✅ Classes and\n",
        "\n",
        "What is OOP?\n",
        "\n",
        "Object-Oriented Programming helps structure code using classes and objects.\n",
        "\n",
        "\n",
        "Class: A blueprint (template)\n",
        "\n",
        "Object: An instance of a class\n"
      ],
      "metadata": {
        "id": "Oj7UyMwT-Xhi"
      }
    },
    {
      "cell_type": "code",
      "source": [
        "class Person:\n",
        "    def __init__(self, name, age):  # constructor\n",
        "        self.name = name\n",
        "        self.age = age\n",
        "\n",
        "    def greet(self):\n",
        "        print(f\"Hello, I'm {self.name} and I'm {self.age} years old.\")\n",
        "\n",
        "# Create object\n",
        "p1 = Person(\"Alice\", 25)\n",
        "p1.greet()  # Output: Hello, I'm Alice and I'm 25 years old.\n"
      ],
      "metadata": {
        "colab": {
          "base_uri": "https://localhost:8080/"
        },
        "id": "11_tbM18-NbG",
        "outputId": "9cabaf46-4681-4ad2-870c-625db2086045"
      },
      "execution_count": 27,
      "outputs": [
        {
          "output_type": "stream",
          "name": "stdout",
          "text": [
            "Hello, I'm Alice and I'm 25 years old.\n"
          ]
        }
      ]
    },
    {
      "cell_type": "code",
      "source": [],
      "metadata": {
        "id": "c7nyAI0Y-dnR"
      },
      "execution_count": null,
      "outputs": []
    }
  ]
}